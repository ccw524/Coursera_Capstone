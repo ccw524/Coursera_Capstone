{
 "cells": [
  {
   "cell_type": "markdown",
   "metadata": {},
   "source": [
    "##  Comparing New York to Toronto"
   ]
  },
  {
   "cell_type": "markdown",
   "metadata": {},
   "source": [
    "Introduction/Business Problem:"
   ]
  },
  {
   "cell_type": "markdown",
   "metadata": {},
   "source": [
    "New York and Toronto are both the largest cities, population wise, in the U.S and Canada. For my final assignment, I decided to look at the cities as a whole to see how the clustering in the two cities compare. While the physical size and the population of Toronto is smaller than New York, it is still interesting to see how the two compare. Both cities in the two countries share similar qualities but it will be interesting to see how the clusters are for both cities. With New York being more of a global city, they could be vastly different.\n",
    "\n",
    "The reason why I focused on this, was based on a discussion at work. The company that I work for has a vested business interest and presence in both cities. Some of my co-workers, who have travelled to both cities, were talking about their experiences there as they had stayed to explore more of the city. Recently I had the opportunity to New York for business and will be going several time in the coming year with a possbility of having a trip to Toronto, looking into what venues the most common for different areas."
   ]
  },
  {
   "cell_type": "markdown",
   "metadata": {},
   "source": [
    "Data:"
   ]
  },
  {
   "cell_type": "markdown",
   "metadata": {},
   "source": [
    "For this assignment, I used the same datasets as the New York and Toronto assignments. However, instead of focusing on just one borough in New York or just neighborhoods in Toronto that contained \"Toronto\", I looked at all of the neighborhoods for both cities. While both cities are the largest in their respective countries, in addition to covering more square miles, New York's larger population allows for more venues in the area. However performing several cluster analysis with different changes for the inputs the results were interesting."
   ]
  },
  {
   "cell_type": "code",
   "execution_count": null,
   "metadata": {},
   "outputs": [],
   "source": []
  }
 ],
 "metadata": {
  "kernelspec": {
   "display_name": "Python 3",
   "language": "python",
   "name": "python3"
  },
  "language_info": {
   "codemirror_mode": {
    "name": "ipython",
    "version": 3
   },
   "file_extension": ".py",
   "mimetype": "text/x-python",
   "name": "python",
   "nbconvert_exporter": "python",
   "pygments_lexer": "ipython3",
   "version": "3.6.5"
  }
 },
 "nbformat": 4,
 "nbformat_minor": 2
}
